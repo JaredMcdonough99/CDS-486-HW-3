{
 "cells": [
  {
   "cell_type": "markdown",
   "metadata": {},
   "source": [
    "CDS 486: Homework 3\n",
    "\n",
    "Matthew Miller\n",
    "\n",
    "02/19/19"
   ]
  },
  {
   "cell_type": "markdown",
   "metadata": {},
   "source": [
    "### Importing Packages"
   ]
  },
  {
   "cell_type": "code",
   "execution_count": 114,
   "metadata": {},
   "outputs": [],
   "source": [
    "import pandas as pd\n",
    "import numpy as np\n",
    "%matplotlib inline\n",
    "import matplotlib.pyplot as plt\n",
    "import seaborn as sns\n",
    "import scipy as sp\n",
    "import geopandas\n",
    "import geoplot\n",
    "import geoplot.crs as gcrs\n",
    "from shapely.geometry import Point, Polygon\n",
    "import math\n",
    "'''\n",
    "from sklearn import linear_model\n",
    "from sklearn.linear_model import LinearRegression\n",
    "from sklearn.preprocessing import LabelEncoder, OneHotEncoder\n",
    "from sklearn.model_selection import train_test_split\n",
    "from sklearn.metrics import r2_score\n",
    "'''\n",
    "plt.style.use('dark_background')"
   ]
  },
  {
   "cell_type": "markdown",
   "metadata": {},
   "source": [
    "### Import Data"
   ]
  },
  {
   "cell_type": "code",
   "execution_count": 2,
   "metadata": {},
   "outputs": [],
   "source": [
    "CC_Data = pd.read_csv(\"data/Dataset1_combined.csv\")"
   ]
  },
  {
   "cell_type": "code",
   "execution_count": 3,
   "metadata": {},
   "outputs": [
    {
     "data": {
      "text/html": [
       "<div>\n",
       "<style scoped>\n",
       "    .dataframe tbody tr th:only-of-type {\n",
       "        vertical-align: middle;\n",
       "    }\n",
       "\n",
       "    .dataframe tbody tr th {\n",
       "        vertical-align: top;\n",
       "    }\n",
       "\n",
       "    .dataframe thead th {\n",
       "        text-align: right;\n",
       "    }\n",
       "</style>\n",
       "<table border=\"1\" class=\"dataframe\">\n",
       "  <thead>\n",
       "    <tr style=\"text-align: right;\">\n",
       "      <th></th>\n",
       "      <th>timestamp</th>\n",
       "      <th>latitude</th>\n",
       "      <th>longitude</th>\n",
       "      <th>altitude</th>\n",
       "      <th>speedmph</th>\n",
       "      <th>speedkmh</th>\n",
       "      <th>accuracy</th>\n",
       "    </tr>\n",
       "  </thead>\n",
       "  <tbody>\n",
       "    <tr>\n",
       "      <th>0</th>\n",
       "      <td>12/22/2018 12:09:32 PM</td>\n",
       "      <td>41.603367</td>\n",
       "      <td>-86.754688</td>\n",
       "      <td>259</td>\n",
       "      <td>48.5</td>\n",
       "      <td>78.0</td>\n",
       "      <td>15.975934</td>\n",
       "    </tr>\n",
       "    <tr>\n",
       "      <th>1</th>\n",
       "      <td>12/22/2018 12:09:34 PM</td>\n",
       "      <td>41.603271</td>\n",
       "      <td>-86.755283</td>\n",
       "      <td>266</td>\n",
       "      <td>52.0</td>\n",
       "      <td>83.7</td>\n",
       "      <td>10.000000</td>\n",
       "    </tr>\n",
       "    <tr>\n",
       "      <th>2</th>\n",
       "      <td>12/22/2018 12:09:35 PM</td>\n",
       "      <td>41.603228</td>\n",
       "      <td>-86.755552</td>\n",
       "      <td>265</td>\n",
       "      <td>51.3</td>\n",
       "      <td>82.6</td>\n",
       "      <td>10.000000</td>\n",
       "    </tr>\n",
       "    <tr>\n",
       "      <th>3</th>\n",
       "      <td>12/22/2018 12:09:37 PM</td>\n",
       "      <td>41.603144</td>\n",
       "      <td>-86.756071</td>\n",
       "      <td>261</td>\n",
       "      <td>50.9</td>\n",
       "      <td>81.9</td>\n",
       "      <td>10.000000</td>\n",
       "    </tr>\n",
       "    <tr>\n",
       "      <th>4</th>\n",
       "      <td>12/22/2018 12:09:39 PM</td>\n",
       "      <td>41.603064</td>\n",
       "      <td>-86.756573</td>\n",
       "      <td>266</td>\n",
       "      <td>52.0</td>\n",
       "      <td>83.7</td>\n",
       "      <td>10.000000</td>\n",
       "    </tr>\n",
       "  </tbody>\n",
       "</table>\n",
       "</div>"
      ],
      "text/plain": [
       "                timestamp   latitude  longitude  altitude  speedmph  speedkmh  \\\n",
       "0  12/22/2018 12:09:32 PM  41.603367 -86.754688       259      48.5      78.0   \n",
       "1  12/22/2018 12:09:34 PM  41.603271 -86.755283       266      52.0      83.7   \n",
       "2  12/22/2018 12:09:35 PM  41.603228 -86.755552       265      51.3      82.6   \n",
       "3  12/22/2018 12:09:37 PM  41.603144 -86.756071       261      50.9      81.9   \n",
       "4  12/22/2018 12:09:39 PM  41.603064 -86.756573       266      52.0      83.7   \n",
       "\n",
       "    accuracy  \n",
       "0  15.975934  \n",
       "1  10.000000  \n",
       "2  10.000000  \n",
       "3  10.000000  \n",
       "4  10.000000  "
      ]
     },
     "execution_count": 3,
     "metadata": {},
     "output_type": "execute_result"
    }
   ],
   "source": [
    "CC_Data.head()"
   ]
  },
  {
   "cell_type": "code",
   "execution_count": 4,
   "metadata": {},
   "outputs": [],
   "source": [
    "#Tidy the timestamp data\n",
    "time_list = []\n",
    "for i in CC_Data[\"timestamp\"]:\n",
    "    '''This loop separates the clock time from the rest of the string'''\n",
    "    start = 0 #index for slicing\n",
    "    stop = 0 #index for slicing\n",
    "    flag = 0\n",
    "    for j in range(len(i)):\n",
    "        if (i[j] == \" \" and flag == 0):\n",
    "            start = j+1\n",
    "            flag = 1\n",
    "        elif (i[j] == \" \" and flag == 1):\n",
    "            stop = j\n",
    "    time_list.append(i[start:stop])\n",
    "\n",
    "CC_Data[\"time\"] = time_list\n",
    "\n",
    "\n",
    "\n",
    "second_list = []\n",
    "for time in CC_Data[\"time\"]:\n",
    "    '''this will create a column of all the times in seconds....this is easier to work with'''\n",
    "    x = time.split(\":\")\n",
    "    hour = int(x[0])\n",
    "    minute = int(x[1])\n",
    "    second = int(x[2])\n",
    "    second_list.append((hour%12)*60^2 + minute*60 + second)\n",
    "\n",
    "for i in range(len(second_list)):\n",
    "    '''This changes the list so that each time is relative to the start time'''\n",
    "    second_list[i] -= 574\n",
    "\n",
    "CC_Data[\"seconds\"] = second_list"
   ]
  },
  {
   "cell_type": "code",
   "execution_count": 5,
   "metadata": {},
   "outputs": [],
   "source": [
    "#remove points where the accuracy >10\n",
    "CC_Data = CC_Data[CC_Data[\"accuracy\"] <= 10]"
   ]
  },
  {
   "cell_type": "code",
   "execution_count": 53,
   "metadata": {},
   "outputs": [
    {
     "data": {
      "text/html": [
       "<div>\n",
       "<style scoped>\n",
       "    .dataframe tbody tr th:only-of-type {\n",
       "        vertical-align: middle;\n",
       "    }\n",
       "\n",
       "    .dataframe tbody tr th {\n",
       "        vertical-align: top;\n",
       "    }\n",
       "\n",
       "    .dataframe thead th {\n",
       "        text-align: right;\n",
       "    }\n",
       "</style>\n",
       "<table border=\"1\" class=\"dataframe\">\n",
       "  <thead>\n",
       "    <tr style=\"text-align: right;\">\n",
       "      <th></th>\n",
       "      <th>timestamp</th>\n",
       "      <th>latitude</th>\n",
       "      <th>longitude</th>\n",
       "      <th>altitude</th>\n",
       "      <th>speedmph</th>\n",
       "      <th>speedkmh</th>\n",
       "      <th>accuracy</th>\n",
       "      <th>time</th>\n",
       "      <th>seconds</th>\n",
       "    </tr>\n",
       "  </thead>\n",
       "  <tbody>\n",
       "    <tr>\n",
       "      <th>1</th>\n",
       "      <td>12/22/2018 12:09:34 PM</td>\n",
       "      <td>41.603271</td>\n",
       "      <td>-86.755283</td>\n",
       "      <td>266</td>\n",
       "      <td>52.0</td>\n",
       "      <td>83.7</td>\n",
       "      <td>10.000000</td>\n",
       "      <td>12:09:34</td>\n",
       "      <td>2</td>\n",
       "    </tr>\n",
       "    <tr>\n",
       "      <th>2</th>\n",
       "      <td>12/22/2018 12:09:35 PM</td>\n",
       "      <td>41.603228</td>\n",
       "      <td>-86.755552</td>\n",
       "      <td>265</td>\n",
       "      <td>51.3</td>\n",
       "      <td>82.6</td>\n",
       "      <td>10.000000</td>\n",
       "      <td>12:09:35</td>\n",
       "      <td>3</td>\n",
       "    </tr>\n",
       "    <tr>\n",
       "      <th>3</th>\n",
       "      <td>12/22/2018 12:09:37 PM</td>\n",
       "      <td>41.603144</td>\n",
       "      <td>-86.756071</td>\n",
       "      <td>261</td>\n",
       "      <td>50.9</td>\n",
       "      <td>81.9</td>\n",
       "      <td>10.000000</td>\n",
       "      <td>12:09:37</td>\n",
       "      <td>5</td>\n",
       "    </tr>\n",
       "    <tr>\n",
       "      <th>4</th>\n",
       "      <td>12/22/2018 12:09:39 PM</td>\n",
       "      <td>41.603064</td>\n",
       "      <td>-86.756573</td>\n",
       "      <td>266</td>\n",
       "      <td>52.0</td>\n",
       "      <td>83.7</td>\n",
       "      <td>10.000000</td>\n",
       "      <td>12:09:39</td>\n",
       "      <td>7</td>\n",
       "    </tr>\n",
       "    <tr>\n",
       "      <th>9</th>\n",
       "      <td>12/22/2018 12:09:49 PM</td>\n",
       "      <td>41.602614</td>\n",
       "      <td>-86.759369</td>\n",
       "      <td>259</td>\n",
       "      <td>53.9</td>\n",
       "      <td>86.8</td>\n",
       "      <td>9.461421</td>\n",
       "      <td>12:09:49</td>\n",
       "      <td>17</td>\n",
       "    </tr>\n",
       "  </tbody>\n",
       "</table>\n",
       "</div>"
      ],
      "text/plain": [
       "                timestamp   latitude  longitude  altitude  speedmph  speedkmh  \\\n",
       "1  12/22/2018 12:09:34 PM  41.603271 -86.755283       266      52.0      83.7   \n",
       "2  12/22/2018 12:09:35 PM  41.603228 -86.755552       265      51.3      82.6   \n",
       "3  12/22/2018 12:09:37 PM  41.603144 -86.756071       261      50.9      81.9   \n",
       "4  12/22/2018 12:09:39 PM  41.603064 -86.756573       266      52.0      83.7   \n",
       "9  12/22/2018 12:09:49 PM  41.602614 -86.759369       259      53.9      86.8   \n",
       "\n",
       "    accuracy      time  seconds  \n",
       "1  10.000000  12:09:34        2  \n",
       "2  10.000000  12:09:35        3  \n",
       "3  10.000000  12:09:37        5  \n",
       "4  10.000000  12:09:39        7  \n",
       "9   9.461421  12:09:49       17  "
      ]
     },
     "execution_count": 53,
     "metadata": {},
     "output_type": "execute_result"
    }
   ],
   "source": [
    "CC_Data.head()"
   ]
  },
  {
   "cell_type": "markdown",
   "metadata": {},
   "source": [
    "#### Problem 1"
   ]
  },
  {
   "cell_type": "markdown",
   "metadata": {},
   "source": [
    "How long is the combined journey, in miles traveled, from beginning\n",
    "through end?"
   ]
  },
  {
   "cell_type": "code",
   "execution_count": 7,
   "metadata": {},
   "outputs": [],
   "source": [
    "def Haversine(lat1, lon1, lat2, lon2): \n",
    "    R = 6372.8 # Earth radius in kilometers\n",
    " \n",
    "    dLat = np.radians(lat2 - lat1)\n",
    "    dLon = np.radians(lon2 - lon1)\n",
    "    \n",
    "    lat1 = np.radians(lat1)\n",
    "    lat2 = np.radians(lat2)\n",
    " \n",
    "    a = np.sin(dLat/2)**2 + np.cos(lat1)*np.cos(lat2)*np.sin(dLon/2)**2\n",
    "    c = 2 * np.arctan2(np.sqrt(a), np.sqrt(1-a))\n",
    " \n",
    "    return R * c"
   ]
  },
  {
   "cell_type": "code",
   "execution_count": 17,
   "metadata": {},
   "outputs": [
    {
     "name": "stdout",
     "output_type": "stream",
     "text": [
      "The total distance covered in this Cross Country was 10340.166 Km or 6425.079 miles\n"
     ]
    }
   ],
   "source": [
    "Total_Dist = 0.0\n",
    "for i in range(len(CC_Data)-1):\n",
    "    Total_Dist += Haversine(lat1=CC_Data[\"latitude\"].iloc[i], lon1=CC_Data[\"longitude\"].iloc[i], lat2=CC_Data[\"latitude\"].iloc[i+1], lon2=CC_Data[\"longitude\"].iloc[i+1])\n",
    "\n",
    "print(\"The total distance covered in this Cross Country was %0.3f Km or %0.3f miles\" %(Total_Dist, Total_Dist*0.621371))"
   ]
  },
  {
   "cell_type": "markdown",
   "metadata": {},
   "source": [
    "Plot the entire journey on a map. Please make your visual informative:\n",
    "Don’t plot the data at a very high level of resolution (e.g., northern\n",
    "hemisphere) such that the entire trip appears like a very short line\n",
    "segment! Instead, use a bit lower resolution, so that the trip can be\n",
    "followed (for example, on a map of the United States)."
   ]
  },
  {
   "cell_type": "code",
   "execution_count": null,
   "metadata": {},
   "outputs": [],
   "source": []
  },
  {
   "cell_type": "markdown",
   "metadata": {},
   "source": [
    "Which two major U.S. cities were visited on this trip? (NOTE: The\n",
    "two major U.S. cities visited on this trip were those cities in which the\n",
    "travelers spent more than 10 hours.) Can you identify the hotels in\n",
    "which the traveler’s stayed, in each city? To do this you must understand what it might mean–from the perspective of GPS coordinates–to\n",
    "spend time in a hotel. For example: What is the likely recorded speed\n",
    "when someone is sleeping? There are other ways to find specific locations, but hotels are the easiest if we define “sleeping” in GPS terms."
   ]
  },
  {
   "cell_type": "markdown",
   "metadata": {},
   "source": [
    "How many total stops were made on this trip, and what are the lat/lon\n",
    "coordinates of each of these stops? (NOTE: Answering this question\n",
    "will require you to define a stop. That definition may or may not be\n",
    "statistical in nature. If you adopt a statistical definition, then you\n",
    "should provide that definition and a short discussion–a few sentences\n",
    "at most–defending your choice. Also note that “stops” were not made\n",
    "in the two major cities. Instead, “stops” were made in transit to the\n",
    "major cities, and also between them.)"
   ]
  },
  {
   "cell_type": "code",
   "execution_count": 96,
   "metadata": {},
   "outputs": [],
   "source": [
    "##speed should be zero for \"n\" seconds\n",
    "def GetStops(n = 10, data = CC_Data):\n",
    "    '''This function will gather a list of latitude/longitude pairs where each pair represents a trainstop. A trainstop is defined as stopping for at least n minutes'''\n",
    "    Stops = []\n",
    "    n = n*60 #time, in seconds of how long a stop is\n",
    "    t = 0 #time since the last stop started\n",
    "    for i in range(0,len(data)-1):\n",
    "        if ((all(data[\"speedmph\"].iloc[i:i+10]) == False) and (all(data[\"speedmph\"].iloc[i-10:i-1]) == True)):\n",
    "        #if (all points from the current point to the next 10 values are 0) and (the last 10 values before i are not 0)\n",
    "            t = data[\"seconds\"].iloc[i]\n",
    "            Stops.append([data[\"latitude\"].iloc[i],data[\"longitude\"].iloc[i]])\n",
    "            \n",
    "    return Stops"
   ]
  },
  {
   "cell_type": "code",
   "execution_count": 113,
   "metadata": {},
   "outputs": [
    {
     "ename": "TypeError",
     "evalue": "'Series' object cannot be interpreted as an integer",
     "output_type": "error",
     "traceback": [
      "\u001b[1;31m---------------------------------------------------------------------------\u001b[0m",
      "\u001b[1;31mTypeError\u001b[0m                                 Traceback (most recent call last)",
      "\u001b[1;32m<ipython-input-113-738c90353bee>\u001b[0m in \u001b[0;36m<module>\u001b[1;34m\u001b[0m\n\u001b[1;32m----> 1\u001b[1;33m \u001b[0mrange\u001b[0m\u001b[1;33m(\u001b[0m\u001b[0mCC_Data\u001b[0m\u001b[1;33m[\u001b[0m\u001b[1;34m\"speedmph\"\u001b[0m\u001b[1;33m]\u001b[0m\u001b[1;33m[\u001b[0m\u001b[1;36m18\u001b[0m\u001b[1;33m:\u001b[0m\u001b[1;36m24\u001b[0m\u001b[1;33m]\u001b[0m\u001b[1;33m)\u001b[0m\u001b[1;33m\u001b[0m\u001b[0m\n\u001b[0m",
      "\u001b[1;31mTypeError\u001b[0m: 'Series' object cannot be interpreted as an integer"
     ]
    }
   ],
   "source": [
    "range(CC_Data[\"speedmph\"][18:24])"
   ]
  },
  {
   "cell_type": "code",
   "execution_count": 108,
   "metadata": {},
   "outputs": [],
   "source": [
    "##speed should be zero for \"n\" seconds\n",
    "def GetStops(n = 10, data = CC_Data):\n",
    "    '''This function will gather a list of latitude/longitude pairs where each pair represents a trainstop. A new trainstop is defined as stopping for at least n minutes '''\n",
    "    Stops = []\n",
    "    n = n*60 #time, in seconds of how long a stop is\n",
    "    t = 0 #time the last stop started\n",
    "    first = 0 #checks for 1st stop\n",
    "    \n",
    "    for i in range(0,len(data)-1):\n",
    "        if ((all(data[\"speedmph\"].iloc[i:i+5]) == False) and (first == 0):\n",
    "        elif ((all(data[\"speedmph\"].iloc[i:i+5]) == False) and ((data[\"seconds\"].iloc[i]-t) >= n) and (all(data[\"speedmph\"].iloc[i-5:i]) == True)):\n",
    "        #if (all points from the current point to the next 5 values are 0) and (it has been at least n seconds since the last stop)and (the last 5 values before i are not 0)\n",
    "            t = data[\"seconds\"].iloc[i]\n",
    "            Stops.append([data[\"latitude\"].iloc[i],data[\"longitude\"].iloc[i]])\n",
    "            \n",
    "    return Stops"
   ]
  },
  {
   "cell_type": "code",
   "execution_count": 109,
   "metadata": {},
   "outputs": [],
   "source": [
    "S = GetStops(n = 0.5)"
   ]
  },
  {
   "cell_type": "code",
   "execution_count": 110,
   "metadata": {},
   "outputs": [
    {
     "data": {
      "text/plain": [
       "[[41.596109000000006, -86.924899],\n",
       " [41.598246, -86.954492],\n",
       " [41.609596999999994, -87.033525],\n",
       " [41.604532, -87.25389],\n",
       " [41.604613, -87.260003],\n",
       " [41.604617, -87.26029],\n",
       " [41.605031, -87.290666],\n",
       " [41.605203, -87.30216300000001],\n",
       " [41.605328, -87.31101899999999],\n",
       " [41.605457, -87.320415],\n",
       " [41.605548, -87.327106],\n",
       " [41.605965999999995, -87.337026],\n",
       " [41.607546, -87.34510999999999],\n",
       " [41.618203, -87.375355],\n",
       " [41.620740000000005, -87.38250699999999],\n",
       " [41.624825, -87.393976],\n",
       " [44.789784000000004, -92.905244],\n",
       " [44.809761, -92.929798],\n",
       " [44.818247, -92.94385],\n",
       " [44.972744, -93.194639],\n",
       " [41.671624, -122.079128]]"
      ]
     },
     "execution_count": 110,
     "metadata": {},
     "output_type": "execute_result"
    }
   ],
   "source": [
    "S"
   ]
  },
  {
   "cell_type": "code",
   "execution_count": 111,
   "metadata": {},
   "outputs": [
    {
     "data": {
      "text/plain": [
       "21"
      ]
     },
     "execution_count": 111,
     "metadata": {},
     "output_type": "execute_result"
    }
   ],
   "source": [
    "len(S)"
   ]
  },
  {
   "cell_type": "markdown",
   "metadata": {},
   "source": [
    "Plot the stop locations on a map."
   ]
  },
  {
   "cell_type": "code",
   "execution_count": null,
   "metadata": {},
   "outputs": [],
   "source": []
  },
  {
   "cell_type": "markdown",
   "metadata": {},
   "source": [
    "Report the mean speed between stops, and the standard deviation of\n",
    "the speed between stops."
   ]
  },
  {
   "cell_type": "code",
   "execution_count": null,
   "metadata": {},
   "outputs": [],
   "source": []
  },
  {
   "cell_type": "markdown",
   "metadata": {},
   "source": [
    "Identify the U.S. states that were “visited” by the travelers (NOTE:\n",
    "We will adopt a loose definition of “visited”: any state traversed by the\n",
    "journey is considered “visited” for purposes of this question.)"
   ]
  },
  {
   "cell_type": "code",
   "execution_count": null,
   "metadata": {},
   "outputs": [],
   "source": []
  },
  {
   "cell_type": "markdown",
   "metadata": {},
   "source": [
    "There were several natural landscape and man-made landmarks visited\n",
    "on this trip (a landmark being defined loosely as a tourist destination).\n",
    "Name three of them. (NOTE: To assist you with this task, it will\n",
    "be helpful to also plot the locations of some landmarks on a map,\n",
    "and see whether the traveler’s journey “intersected with” or otherwise\n",
    "spent significant time near one of these landmarks. Once you identify\n",
    "the two major cities visited on the journey, you will have sufficient\n",
    "information to identify at least three landmarks. How? By Googling\n",
    "the names of the two cities and making a list of some of the noteworthy\n",
    "landmarks in each, and then, obtaining the GPS coordinates of these\n",
    "landmarks!) Can you name additional landmarks, particularly outside\n",
    "densely populated areas, that were “visited” in transit? One homework\n",
    "extra credit point will be awarded for every five additional landmarks\n",
    "identified, up to +3 homework extra credit points. (As an aside, and\n",
    "FYI only, natural landscape landmarks–of which there are several on\n",
    "this journey–are best “visited” at low speeds: If not, then it becomes\n",
    "hard to photograph them!)"
   ]
  },
  {
   "cell_type": "code",
   "execution_count": null,
   "metadata": {},
   "outputs": [],
   "source": []
  },
  {
   "cell_type": "markdown",
   "metadata": {},
   "source": [
    "Create a graphically pleasant Powerpoint presentation of your above\n",
    "analysis of the combined journey, using the template format outlined\n",
    "in Homework 2. In this case, don’t consider the journey as a problem\n",
    "to be solved. Instead, consider the journey as a product to be sold. That\n",
    "is precisely why you were just asked to identify states and landmarks!\n",
    "Your Powerpoint presentation should reflect this “sales” viewpoint."
   ]
  },
  {
   "cell_type": "code",
   "execution_count": null,
   "metadata": {},
   "outputs": [],
   "source": []
  },
  {
   "cell_type": "markdown",
   "metadata": {},
   "source": [
    "Create a separate document (either Powerpoint or word-processed text\n",
    "document) that is a technical appendix and that includes any and all\n",
    "python code that you write."
   ]
  },
  {
   "cell_type": "code",
   "execution_count": null,
   "metadata": {},
   "outputs": [],
   "source": []
  }
 ],
 "metadata": {
  "kernelspec": {
   "display_name": "Python 3",
   "language": "python",
   "name": "python3"
  },
  "language_info": {
   "codemirror_mode": {
    "name": "ipython",
    "version": 3
   },
   "file_extension": ".py",
   "mimetype": "text/x-python",
   "name": "python",
   "nbconvert_exporter": "python",
   "pygments_lexer": "ipython3",
   "version": "3.6.5"
  }
 },
 "nbformat": 4,
 "nbformat_minor": 2
}
