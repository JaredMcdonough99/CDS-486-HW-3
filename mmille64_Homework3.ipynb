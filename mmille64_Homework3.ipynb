{
 "cells": [
  {
   "cell_type": "markdown",
   "metadata": {},
   "source": [
    "CDS 486: Homework 3\n",
    "\n",
    "Matthew Miller\n",
    "\n",
    "02/19/19"
   ]
  },
  {
   "cell_type": "markdown",
   "metadata": {},
   "source": [
    "### Importing Packages"
   ]
  },
  {
   "cell_type": "code",
   "execution_count": 1,
   "metadata": {},
   "outputs": [],
   "source": [
    "import pandas as pd\n",
    "import numpy as np\n",
    "%matplotlib inline\n",
    "import matplotlib.pyplot as plt\n",
    "import seaborn as sns\n",
    "import scipy as sp\n",
    "import geopandas\n",
    "import geoplot\n",
    "import geoplot.crs as gcrs\n",
    "from shapely.geometry import Point, Polygon\n",
    "import math\n",
    "'''\n",
    "from sklearn import linear_model\n",
    "from sklearn.linear_model import LinearRegression\n",
    "from sklearn.preprocessing import LabelEncoder, OneHotEncoder\n",
    "from sklearn.model_selection import train_test_split\n",
    "from sklearn.metrics import r2_score\n",
    "'''\n",
    "plt.style.use('dark_background')"
   ]
  },
  {
   "cell_type": "markdown",
   "metadata": {},
   "source": [
    "### Import Data"
   ]
  },
  {
   "cell_type": "code",
   "execution_count": 2,
   "metadata": {},
   "outputs": [],
   "source": [
    "CC_Data = pd.read_csv(\"data/Dataset1_combined.csv\")"
   ]
  },
  {
   "cell_type": "code",
   "execution_count": 3,
   "metadata": {},
   "outputs": [
    {
     "data": {
      "text/html": [
       "<div>\n",
       "<style scoped>\n",
       "    .dataframe tbody tr th:only-of-type {\n",
       "        vertical-align: middle;\n",
       "    }\n",
       "\n",
       "    .dataframe tbody tr th {\n",
       "        vertical-align: top;\n",
       "    }\n",
       "\n",
       "    .dataframe thead th {\n",
       "        text-align: right;\n",
       "    }\n",
       "</style>\n",
       "<table border=\"1\" class=\"dataframe\">\n",
       "  <thead>\n",
       "    <tr style=\"text-align: right;\">\n",
       "      <th></th>\n",
       "      <th>timestamp</th>\n",
       "      <th>latitude</th>\n",
       "      <th>longitude</th>\n",
       "      <th>altitude</th>\n",
       "      <th>speedmph</th>\n",
       "      <th>speedkmh</th>\n",
       "      <th>accuracy</th>\n",
       "    </tr>\n",
       "  </thead>\n",
       "  <tbody>\n",
       "    <tr>\n",
       "      <th>0</th>\n",
       "      <td>12/22/2018 12:09:32 PM</td>\n",
       "      <td>41.603367</td>\n",
       "      <td>-86.754688</td>\n",
       "      <td>259</td>\n",
       "      <td>48.5</td>\n",
       "      <td>78.0</td>\n",
       "      <td>15.975934</td>\n",
       "    </tr>\n",
       "    <tr>\n",
       "      <th>1</th>\n",
       "      <td>12/22/2018 12:09:34 PM</td>\n",
       "      <td>41.603271</td>\n",
       "      <td>-86.755283</td>\n",
       "      <td>266</td>\n",
       "      <td>52.0</td>\n",
       "      <td>83.7</td>\n",
       "      <td>10.000000</td>\n",
       "    </tr>\n",
       "    <tr>\n",
       "      <th>2</th>\n",
       "      <td>12/22/2018 12:09:35 PM</td>\n",
       "      <td>41.603228</td>\n",
       "      <td>-86.755552</td>\n",
       "      <td>265</td>\n",
       "      <td>51.3</td>\n",
       "      <td>82.6</td>\n",
       "      <td>10.000000</td>\n",
       "    </tr>\n",
       "    <tr>\n",
       "      <th>3</th>\n",
       "      <td>12/22/2018 12:09:37 PM</td>\n",
       "      <td>41.603144</td>\n",
       "      <td>-86.756071</td>\n",
       "      <td>261</td>\n",
       "      <td>50.9</td>\n",
       "      <td>81.9</td>\n",
       "      <td>10.000000</td>\n",
       "    </tr>\n",
       "    <tr>\n",
       "      <th>4</th>\n",
       "      <td>12/22/2018 12:09:39 PM</td>\n",
       "      <td>41.603064</td>\n",
       "      <td>-86.756573</td>\n",
       "      <td>266</td>\n",
       "      <td>52.0</td>\n",
       "      <td>83.7</td>\n",
       "      <td>10.000000</td>\n",
       "    </tr>\n",
       "  </tbody>\n",
       "</table>\n",
       "</div>"
      ],
      "text/plain": [
       "                timestamp   latitude  longitude  altitude  speedmph  speedkmh  \\\n",
       "0  12/22/2018 12:09:32 PM  41.603367 -86.754688       259      48.5      78.0   \n",
       "1  12/22/2018 12:09:34 PM  41.603271 -86.755283       266      52.0      83.7   \n",
       "2  12/22/2018 12:09:35 PM  41.603228 -86.755552       265      51.3      82.6   \n",
       "3  12/22/2018 12:09:37 PM  41.603144 -86.756071       261      50.9      81.9   \n",
       "4  12/22/2018 12:09:39 PM  41.603064 -86.756573       266      52.0      83.7   \n",
       "\n",
       "    accuracy  \n",
       "0  15.975934  \n",
       "1  10.000000  \n",
       "2  10.000000  \n",
       "3  10.000000  \n",
       "4  10.000000  "
      ]
     },
     "execution_count": 3,
     "metadata": {},
     "output_type": "execute_result"
    }
   ],
   "source": [
    "CC_Data.head()"
   ]
  },
  {
   "cell_type": "code",
   "execution_count": 6,
   "metadata": {},
   "outputs": [],
   "source": [
    "'''\n",
    "#Tidy the timestamp data\n",
    "time_list = []\n",
    "for i in CC_Data[\"timestamp\"]:\n",
    "    ''This loop separates the clock time from the rest of the string''\n",
    "    start = 0 #index for slicing\n",
    "    stop = 0 #index for slicing\n",
    "    flag = 0\n",
    "    for j in range(len(i)):\n",
    "        if (i[j] == \" \" and flag == 0):\n",
    "            start = j+1\n",
    "            flag = 1\n",
    "        elif (i[j] == \" \" and flag == 1):\n",
    "            stop = j\n",
    "    time_list.append(i[start:stop])\n",
    "\n",
    "CC_Data[\"time\"] = time_list\n",
    "\n",
    "\n",
    "\n",
    "second_list = []\n",
    "for time in CC_Data[\"time\"]:\n",
    "    'this will create a column of all the times in seconds....this is easier to work with''\n",
    "    x = time.split(\":\")\n",
    "    hour = int(x[0])\n",
    "    minute = int(x[1])\n",
    "    second = int(x[2])\n",
    "    second_list.append((hour%12)*60^2 + minute*60 + second)\n",
    "\n",
    "for i in range(len(second_list)):\n",
    "    'This changes the list so that each time is relative to the start time''\n",
    "    second_list[i] -= 574\n",
    "\n",
    "CC_Data[\"seconds\"] = second_list\n",
    "''';"
   ]
  },
  {
   "cell_type": "code",
   "execution_count": 14,
   "metadata": {},
   "outputs": [],
   "source": [
    "#Tidy the timestamp data\n",
    "time_list = []\n",
    "for i in CC_Data[\"timestamp\"]:\n",
    "    '''This loop separates the clock time from the rest of the string'''\n",
    "    start = 0 #index for slicing\n",
    "    stop = 0 #index for slicing\n",
    "    flag = 0\n",
    "    for j in range(len(i)):\n",
    "        if (i[j] == \" \" and flag == 0):\n",
    "            start = j+1\n",
    "            flag = 1\n",
    "        elif (i[j] == \" \" and flag == 1):\n",
    "            stop = j\n",
    "    time_list.append(i[start:stop])\n",
    "\n",
    "CC_Data[\"time\"] = time_list\n",
    "\n",
    "####################################\n",
    "\n",
    "second_list = []\n",
    "for i in range(len(CC_Data)):\n",
    "    '''this will create a column of all the times in seconds, relative to the start time....this is easier to work with'''\n",
    "    if (i == 0):\n",
    "        x = CC_Data[\"time\"].iloc[i]\n",
    "        x = x.split(\":\")\n",
    "        prev_hour = int(x[0])\n",
    "        prev_minute = int(x[1])\n",
    "        prev_second = int(x[2])\n",
    "        prev_time = 0 #previous value stored since init\n",
    "        second_list.append(0)\n",
    "    else:\n",
    "        x = CC_Data[\"time\"].iloc[i]\n",
    "        x = x.split(\":\")\n",
    "        hour = int(x[0])\n",
    "        minute = int(x[1])\n",
    "        second = int(x[2])\n",
    "        \n",
    "        if ((prev_hour == hour) and (prev_minute == minute)):\n",
    "            #if the hour and minute are the same\n",
    "            sec = second - prev_second #finds how many seconds since previous instance\n",
    "            second_list.append(prev_time + sec)\n",
    "            prev_time += sec\n",
    "        elif ((prev_hour == hour) and (prev_minute != minute)):\n",
    "            #if the hour is the same, but different minutes\n",
    "            sec = (second + (60-prev_second)) + ((minute-prev_minute-1) * 60) #finds how many seconds since previous instance\n",
    "            #the ((minute-prev_minute-1) * 60) is there in case the jump is larger than a minute\n",
    "            second_list.append(prev_time + sec)\n",
    "            prev_time += sec       \n",
    "        else:\n",
    "            #if the hour has changed -- assuming the change is never more than 1 hour\n",
    "            sec = (minute*60 + second)\n",
    "            second_list.append(prev_time + sec)\n",
    "            prev_time += sec\n",
    "        prev_hour = hour\n",
    "        prev_minute = minute\n",
    "        prev_second = second"
   ]
  },
  {
   "cell_type": "code",
   "execution_count": 15,
   "metadata": {},
   "outputs": [
    {
     "data": {
      "text/plain": [
       "361355"
      ]
     },
     "execution_count": 15,
     "metadata": {},
     "output_type": "execute_result"
    }
   ],
   "source": [
    "len(CC_Data)"
   ]
  },
  {
   "cell_type": "code",
   "execution_count": 16,
   "metadata": {},
   "outputs": [
    {
     "data": {
      "text/plain": [
       "361355"
      ]
     },
     "execution_count": 16,
     "metadata": {},
     "output_type": "execute_result"
    }
   ],
   "source": [
    "len(second_list)"
   ]
  },
  {
   "cell_type": "code",
   "execution_count": 17,
   "metadata": {},
   "outputs": [],
   "source": [
    "CC_Data[\"seconds\"] = second_list"
   ]
  },
  {
   "cell_type": "code",
   "execution_count": 18,
   "metadata": {},
   "outputs": [],
   "source": [
    "#remove points where the accuracy >10\n",
    "CC_Data = CC_Data[CC_Data[\"accuracy\"] <= 10]"
   ]
  },
  {
   "cell_type": "code",
   "execution_count": 19,
   "metadata": {},
   "outputs": [
    {
     "data": {
      "text/html": [
       "<div>\n",
       "<style scoped>\n",
       "    .dataframe tbody tr th:only-of-type {\n",
       "        vertical-align: middle;\n",
       "    }\n",
       "\n",
       "    .dataframe tbody tr th {\n",
       "        vertical-align: top;\n",
       "    }\n",
       "\n",
       "    .dataframe thead th {\n",
       "        text-align: right;\n",
       "    }\n",
       "</style>\n",
       "<table border=\"1\" class=\"dataframe\">\n",
       "  <thead>\n",
       "    <tr style=\"text-align: right;\">\n",
       "      <th></th>\n",
       "      <th>timestamp</th>\n",
       "      <th>latitude</th>\n",
       "      <th>longitude</th>\n",
       "      <th>altitude</th>\n",
       "      <th>speedmph</th>\n",
       "      <th>speedkmh</th>\n",
       "      <th>accuracy</th>\n",
       "      <th>time</th>\n",
       "      <th>seconds</th>\n",
       "    </tr>\n",
       "  </thead>\n",
       "  <tbody>\n",
       "    <tr>\n",
       "      <th>1</th>\n",
       "      <td>12/22/2018 12:09:34 PM</td>\n",
       "      <td>41.603271</td>\n",
       "      <td>-86.755283</td>\n",
       "      <td>266</td>\n",
       "      <td>52.0</td>\n",
       "      <td>83.7</td>\n",
       "      <td>10.000000</td>\n",
       "      <td>12:09:34</td>\n",
       "      <td>2</td>\n",
       "    </tr>\n",
       "    <tr>\n",
       "      <th>2</th>\n",
       "      <td>12/22/2018 12:09:35 PM</td>\n",
       "      <td>41.603228</td>\n",
       "      <td>-86.755552</td>\n",
       "      <td>265</td>\n",
       "      <td>51.3</td>\n",
       "      <td>82.6</td>\n",
       "      <td>10.000000</td>\n",
       "      <td>12:09:35</td>\n",
       "      <td>3</td>\n",
       "    </tr>\n",
       "    <tr>\n",
       "      <th>3</th>\n",
       "      <td>12/22/2018 12:09:37 PM</td>\n",
       "      <td>41.603144</td>\n",
       "      <td>-86.756071</td>\n",
       "      <td>261</td>\n",
       "      <td>50.9</td>\n",
       "      <td>81.9</td>\n",
       "      <td>10.000000</td>\n",
       "      <td>12:09:37</td>\n",
       "      <td>5</td>\n",
       "    </tr>\n",
       "    <tr>\n",
       "      <th>4</th>\n",
       "      <td>12/22/2018 12:09:39 PM</td>\n",
       "      <td>41.603064</td>\n",
       "      <td>-86.756573</td>\n",
       "      <td>266</td>\n",
       "      <td>52.0</td>\n",
       "      <td>83.7</td>\n",
       "      <td>10.000000</td>\n",
       "      <td>12:09:39</td>\n",
       "      <td>7</td>\n",
       "    </tr>\n",
       "    <tr>\n",
       "      <th>9</th>\n",
       "      <td>12/22/2018 12:09:49 PM</td>\n",
       "      <td>41.602614</td>\n",
       "      <td>-86.759369</td>\n",
       "      <td>259</td>\n",
       "      <td>53.9</td>\n",
       "      <td>86.8</td>\n",
       "      <td>9.461421</td>\n",
       "      <td>12:09:49</td>\n",
       "      <td>17</td>\n",
       "    </tr>\n",
       "  </tbody>\n",
       "</table>\n",
       "</div>"
      ],
      "text/plain": [
       "                timestamp   latitude  longitude  altitude  speedmph  speedkmh  \\\n",
       "1  12/22/2018 12:09:34 PM  41.603271 -86.755283       266      52.0      83.7   \n",
       "2  12/22/2018 12:09:35 PM  41.603228 -86.755552       265      51.3      82.6   \n",
       "3  12/22/2018 12:09:37 PM  41.603144 -86.756071       261      50.9      81.9   \n",
       "4  12/22/2018 12:09:39 PM  41.603064 -86.756573       266      52.0      83.7   \n",
       "9  12/22/2018 12:09:49 PM  41.602614 -86.759369       259      53.9      86.8   \n",
       "\n",
       "    accuracy      time  seconds  \n",
       "1  10.000000  12:09:34        2  \n",
       "2  10.000000  12:09:35        3  \n",
       "3  10.000000  12:09:37        5  \n",
       "4  10.000000  12:09:39        7  \n",
       "9   9.461421  12:09:49       17  "
      ]
     },
     "execution_count": 19,
     "metadata": {},
     "output_type": "execute_result"
    }
   ],
   "source": [
    "CC_Data.head()"
   ]
  },
  {
   "cell_type": "markdown",
   "metadata": {},
   "source": [
    "#### Problem 1"
   ]
  },
  {
   "cell_type": "markdown",
   "metadata": {},
   "source": [
    "How long is the combined journey, in miles traveled, from beginning\n",
    "through end?"
   ]
  },
  {
   "cell_type": "code",
   "execution_count": 20,
   "metadata": {},
   "outputs": [],
   "source": [
    "def Haversine(lat1, lon1, lat2, lon2): \n",
    "    R = 6372.8 # Earth radius in kilometers\n",
    " \n",
    "    dLat = np.radians(lat2 - lat1)\n",
    "    dLon = np.radians(lon2 - lon1)\n",
    "    \n",
    "    lat1 = np.radians(lat1)\n",
    "    lat2 = np.radians(lat2)\n",
    " \n",
    "    a = np.sin(dLat/2)**2 + np.cos(lat1)*np.cos(lat2)*np.sin(dLon/2)**2\n",
    "    c = 2 * np.arctan2(np.sqrt(a), np.sqrt(1-a))\n",
    " \n",
    "    return R * c"
   ]
  },
  {
   "cell_type": "code",
   "execution_count": 21,
   "metadata": {},
   "outputs": [
    {
     "name": "stdout",
     "output_type": "stream",
     "text": [
      "The total distance covered in this Cross Country was 10340.166 Km or 6425.079 miles\n"
     ]
    }
   ],
   "source": [
    "Total_Dist = 0.0\n",
    "for i in range(len(CC_Data)-1):\n",
    "    Total_Dist += Haversine(lat1=CC_Data[\"latitude\"].iloc[i], lon1=CC_Data[\"longitude\"].iloc[i], lat2=CC_Data[\"latitude\"].iloc[i+1], lon2=CC_Data[\"longitude\"].iloc[i+1])\n",
    "\n",
    "print(\"The total distance covered in this Cross Country was %0.3f Km or %0.3f miles\" %(Total_Dist, Total_Dist*0.621371))"
   ]
  },
  {
   "cell_type": "markdown",
   "metadata": {},
   "source": [
    "Plot the entire journey on a map. Please make your visual informative:\n",
    "Don’t plot the data at a very high level of resolution (e.g., northern\n",
    "hemisphere) such that the entire trip appears like a very short line\n",
    "segment! Instead, use a bit lower resolution, so that the trip can be\n",
    "followed (for example, on a map of the United States)."
   ]
  },
  {
   "cell_type": "code",
   "execution_count": null,
   "metadata": {},
   "outputs": [],
   "source": []
  },
  {
   "cell_type": "markdown",
   "metadata": {},
   "source": [
    "Which two major U.S. cities were visited on this trip? (NOTE: The\n",
    "two major U.S. cities visited on this trip were those cities in which the\n",
    "travelers spent more than 10 hours.) Can you identify the hotels in\n",
    "which the traveler’s stayed, in each city? To do this you must understand what it might mean–from the perspective of GPS coordinates–to\n",
    "spend time in a hotel. For example: What is the likely recorded speed\n",
    "when someone is sleeping? There are other ways to find specific locations, but hotels are the easiest if we define “sleeping” in GPS terms."
   ]
  },
  {
   "cell_type": "code",
   "execution_count": 73,
   "metadata": {},
   "outputs": [],
   "source": [
    "##speed should be zero for \"n\" seconds\n",
    "def GetStops(n = 10, data = CC_Data):\n",
    "    '''This function will gather a list of latitude/longitude pairs where each pair represents a trainstop. A trainstop is defined as stopping for at least n minutes'''\n",
    "    Stops = []\n",
    "    #Stops = [[index in CC_data,\"lat\", \"lon\", \"duration (minutes)\"]]\n",
    "    n = n*60 #time, in seconds of how long a stop is\n",
    "    start = 0 #index  the last stop started\n",
    "    stop = 0 #index the last stop stopped\n",
    "\n",
    "    for i in (range(0,len(data)-1)):\n",
    "        #for each element in the data\n",
    "        if ((data[\"speedmph\"].iloc[i] == 0) and (i >= stop)):\n",
    "        #if (speed at location i is zero) and (we are after the last stop ended)\n",
    "            start = i #index of stop's start time\n",
    "            \n",
    "            \n",
    "            j = i+1 #start at next index to continue check\n",
    "            while ((data[\"speedmph\"].iloc[j] == 0)):\n",
    "            #while the speed remains 0\n",
    "                   stop = j\n",
    "                   j += 1\n",
    "          \n",
    "            if ((data[\"seconds\"].iloc[stop] - data[\"seconds\"].iloc[start]) >= n):\n",
    "            #if (the duration of the stop is long enough)\n",
    "                Stops.append([i, data[\"latitude\"].iloc[i], data[\"longitude\"].iloc[i], (data[\"seconds\"].iloc[stop] - data[\"seconds\"].iloc[start])/60])\n",
    "                \n",
    "            \n",
    "    return Stops"
   ]
  },
  {
   "cell_type": "code",
   "execution_count": 76,
   "metadata": {},
   "outputs": [
    {
     "name": "stdout",
     "output_type": "stream",
     "text": [
      "[[92757, 47.608964, -122.33316299999998, 649.7]]\n"
     ]
    }
   ],
   "source": [
    "print(GetStops(n = 600)) #10 hours"
   ]
  },
  {
   "cell_type": "code",
   "execution_count": 75,
   "metadata": {},
   "outputs": [
    {
     "name": "stdout",
     "output_type": "stream",
     "text": [
      "[[92757, 47.608964, -122.33316299999998, 649.7], [139309, 37.805606, -122.416288, 236.18333333333334]]\n"
     ]
    }
   ],
   "source": [
    "print(GetStops(n = 200))"
   ]
  },
  {
   "cell_type": "markdown",
   "metadata": {},
   "source": [
    "The first major city visited was Seattle, Washington. The other was San Francisco, California. \n",
    "\n",
    "Hotel in Seattle: Hilton Seattle\n",
    "\n",
    "Hotel in San Francisco: Pier 2620 Hotel  https://www.google.com/maps/place/37%C2%B048'20.2%22N+122%C2%B024'58.6%22W/@37.8056309,-122.4161343,18.91z/data=!4m5!3m4!1s0x0:0x0!8m2!3d37.805606!4d-122.416288"
   ]
  },
  {
   "cell_type": "markdown",
   "metadata": {},
   "source": [
    "How many total stops were made on this trip, and what are the lat/lon\n",
    "coordinates of each of these stops? (NOTE: Answering this question\n",
    "will require you to define a stop. That definition may or may not be\n",
    "statistical in nature. If you adopt a statistical definition, then you\n",
    "should provide that definition and a short discussion–a few sentences\n",
    "at most–defending your choice. Also note that “stops” were not made\n",
    "in the two major cities. Instead, “stops” were made in transit to the\n",
    "major cities, and also between them.)"
   ]
  },
  {
   "cell_type": "code",
   "execution_count": 29,
   "metadata": {},
   "outputs": [],
   "source": []
  },
  {
   "cell_type": "code",
   "execution_count": 30,
   "metadata": {},
   "outputs": [
    {
     "data": {
      "text/plain": [
       "37"
      ]
     },
     "execution_count": 30,
     "metadata": {},
     "output_type": "execute_result"
    }
   ],
   "source": [
    "S = GetStops()\n",
    "len(S)"
   ]
  },
  {
   "cell_type": "code",
   "execution_count": 35,
   "metadata": {},
   "outputs": [],
   "source": [
    "S1 = GetStops(n = 5)"
   ]
  },
  {
   "cell_type": "code",
   "execution_count": 33,
   "metadata": {},
   "outputs": [
    {
     "data": {
      "text/plain": [
       "2"
      ]
     },
     "execution_count": 33,
     "metadata": {},
     "output_type": "execute_result"
    }
   ],
   "source": [
    "S2 = GetStops(n = 200)\n",
    "len(S2)"
   ]
  },
  {
   "cell_type": "code",
   "execution_count": 34,
   "metadata": {},
   "outputs": [
    {
     "data": {
      "text/plain": [
       "[[92757, 47.608964, -122.33316299999998, 649.7],\n",
       " [139309, 37.805606, -122.416288, 236.18333333333334]]"
      ]
     },
     "execution_count": 34,
     "metadata": {},
     "output_type": "execute_result"
    }
   ],
   "source": [
    "S2"
   ]
  },
  {
   "cell_type": "markdown",
   "metadata": {},
   "source": [
    "Defining a stop as a 10 minute period of maintaining a speed of 0, there were 37 stops on this trip.\n",
    "\n",
    "However, if we define a stop as 5 minutes, there were 75 stops on this trip"
   ]
  },
  {
   "cell_type": "markdown",
   "metadata": {},
   "source": [
    "Plot the stop locations on a map."
   ]
  },
  {
   "cell_type": "code",
   "execution_count": null,
   "metadata": {},
   "outputs": [],
   "source": []
  },
  {
   "cell_type": "markdown",
   "metadata": {},
   "source": [
    "Report the mean speed between stops, and the standard deviation of\n",
    "the speed between stops."
   ]
  },
  {
   "cell_type": "code",
   "execution_count": 45,
   "metadata": {},
   "outputs": [],
   "source": [
    "Stops = GetStops(n = 5)"
   ]
  },
  {
   "cell_type": "code",
   "execution_count": 69,
   "metadata": {},
   "outputs": [],
   "source": [
    "s_counter = 0 #this will be used to index through the Stops\n",
    "avg = 0 #this will compute the running average\n",
    "avg_counter = 0 #counter for the mean\n",
    "mean_speeds = [] #this will hold the mean speed between each stop\n",
    "for i in range(1,len(CC_Data)):\n",
    "    if (s_counter == len(Stops)):\n",
    "        S = CC_Data[\"seconds\"].iloc[-1] + 1\n",
    "    else:\n",
    "        S = Stops[s_counter][0]\n",
    "    #The if else above enables us to get the mean speeds from the last stop onward, if need be\n",
    "        \n",
    "        \n",
    "    if (i < S):\n",
    "        avg_counter += 1\n",
    "        avg = ((avg_counter-1)*avg + CC_Data[\"speedmph\"].iloc[i-1])/avg_counter\n",
    "    else:\n",
    "        mean_speeds.append(avg)\n",
    "        avg_counter = 0\n",
    "        avg = 0\n",
    "        s_counter += 1"
   ]
  },
  {
   "cell_type": "code",
   "execution_count": 72,
   "metadata": {},
   "outputs": [],
   "source": [
    "#mean_speeds"
   ]
  },
  {
   "cell_type": "markdown",
   "metadata": {},
   "source": [
    "Identify the U.S. states that were “visited” by the travelers (NOTE:\n",
    "We will adopt a loose definition of “visited”: any state traversed by the\n",
    "journey is considered “visited” for purposes of this question.)"
   ]
  },
  {
   "cell_type": "code",
   "execution_count": null,
   "metadata": {},
   "outputs": [],
   "source": []
  },
  {
   "cell_type": "markdown",
   "metadata": {},
   "source": [
    "There were several natural landscape and man-made landmarks visited\n",
    "on this trip (a landmark being defined loosely as a tourist destination).\n",
    "Name three of them. (NOTE: To assist you with this task, it will\n",
    "be helpful to also plot the locations of some landmarks on a map,\n",
    "and see whether the traveler’s journey “intersected with” or otherwise\n",
    "spent significant time near one of these landmarks. Once you identify\n",
    "the two major cities visited on the journey, you will have sufficient\n",
    "information to identify at least three landmarks. How? By Googling\n",
    "the names of the two cities and making a list of some of the noteworthy\n",
    "landmarks in each, and then, obtaining the GPS coordinates of these\n",
    "landmarks!) Can you name additional landmarks, particularly outside\n",
    "densely populated areas, that were “visited” in transit? One homework\n",
    "extra credit point will be awarded for every five additional landmarks\n",
    "identified, up to +3 homework extra credit points. (As an aside, and\n",
    "FYI only, natural landscape landmarks–of which there are several on\n",
    "this journey–are best “visited” at low speeds: If not, then it becomes\n",
    "hard to photograph them!)"
   ]
  },
  {
   "cell_type": "code",
   "execution_count": null,
   "metadata": {},
   "outputs": [],
   "source": []
  },
  {
   "cell_type": "markdown",
   "metadata": {},
   "source": [
    "Create a graphically pleasant Powerpoint presentation of your above\n",
    "analysis of the combined journey, using the template format outlined\n",
    "in Homework 2. In this case, don’t consider the journey as a problem\n",
    "to be solved. Instead, consider the journey as a product to be sold. That\n",
    "is precisely why you were just asked to identify states and landmarks!\n",
    "Your Powerpoint presentation should reflect this “sales” viewpoint."
   ]
  },
  {
   "cell_type": "code",
   "execution_count": null,
   "metadata": {},
   "outputs": [],
   "source": []
  },
  {
   "cell_type": "markdown",
   "metadata": {},
   "source": [
    "Create a separate document (either Powerpoint or word-processed text\n",
    "document) that is a technical appendix and that includes any and all\n",
    "python code that you write."
   ]
  },
  {
   "cell_type": "code",
   "execution_count": null,
   "metadata": {},
   "outputs": [],
   "source": []
  }
 ],
 "metadata": {
  "kernelspec": {
   "display_name": "Python 3",
   "language": "python",
   "name": "python3"
  },
  "language_info": {
   "codemirror_mode": {
    "name": "ipython",
    "version": 3
   },
   "file_extension": ".py",
   "mimetype": "text/x-python",
   "name": "python",
   "nbconvert_exporter": "python",
   "pygments_lexer": "ipython3",
   "version": "3.6.5"
  }
 },
 "nbformat": 4,
 "nbformat_minor": 2
}
