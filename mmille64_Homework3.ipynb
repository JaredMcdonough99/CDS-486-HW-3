{
 "cells": [
  {
   "cell_type": "markdown",
   "metadata": {},
   "source": [
    "CDS 486: Homework 3\n",
    "\n",
    "Matthew Miller\n",
    "\n",
    "02/19/19"
   ]
  },
  {
   "cell_type": "markdown",
   "metadata": {},
   "source": [
    "### Importing Packages"
   ]
  },
  {
   "cell_type": "code",
   "execution_count": 1,
   "metadata": {},
   "outputs": [],
   "source": [
    "import pandas as pd\n",
    "import numpy as np\n",
    "%matplotlib inline\n",
    "import matplotlib.pyplot as plt\n",
    "import seaborn as sns\n",
    "import scipy as sp\n",
    "import geopandas\n",
    "import geoplot\n",
    "import geoplot.crs as gcrs\n",
    "from shapely.geometry import Point, Polygon\n",
    "import math\n",
    "'''\n",
    "from sklearn import linear_model\n",
    "from sklearn.linear_model import LinearRegression\n",
    "from sklearn.preprocessing import LabelEncoder, OneHotEncoder\n",
    "from sklearn.model_selection import train_test_split\n",
    "from sklearn.metrics import r2_score\n",
    "'''\n",
    "plt.style.use('dark_background')"
   ]
  },
  {
   "cell_type": "markdown",
   "metadata": {},
   "source": [
    "### Import Data"
   ]
  },
  {
   "cell_type": "code",
   "execution_count": 2,
   "metadata": {},
   "outputs": [],
   "source": [
    "CC_Data = pd.read_csv(\"data/Dataset1_combined.csv\")"
   ]
  },
  {
   "cell_type": "code",
   "execution_count": 3,
   "metadata": {},
   "outputs": [
    {
     "data": {
      "text/html": [
       "<div>\n",
       "<style scoped>\n",
       "    .dataframe tbody tr th:only-of-type {\n",
       "        vertical-align: middle;\n",
       "    }\n",
       "\n",
       "    .dataframe tbody tr th {\n",
       "        vertical-align: top;\n",
       "    }\n",
       "\n",
       "    .dataframe thead th {\n",
       "        text-align: right;\n",
       "    }\n",
       "</style>\n",
       "<table border=\"1\" class=\"dataframe\">\n",
       "  <thead>\n",
       "    <tr style=\"text-align: right;\">\n",
       "      <th></th>\n",
       "      <th>timestamp</th>\n",
       "      <th>latitude</th>\n",
       "      <th>longitude</th>\n",
       "      <th>altitude</th>\n",
       "      <th>speedmph</th>\n",
       "      <th>speedkmh</th>\n",
       "      <th>accuracy</th>\n",
       "    </tr>\n",
       "  </thead>\n",
       "  <tbody>\n",
       "    <tr>\n",
       "      <th>0</th>\n",
       "      <td>12/22/2018 12:09:32 PM</td>\n",
       "      <td>41.603367</td>\n",
       "      <td>-86.754688</td>\n",
       "      <td>259</td>\n",
       "      <td>48.5</td>\n",
       "      <td>78.0</td>\n",
       "      <td>15.975934</td>\n",
       "    </tr>\n",
       "    <tr>\n",
       "      <th>1</th>\n",
       "      <td>12/22/2018 12:09:34 PM</td>\n",
       "      <td>41.603271</td>\n",
       "      <td>-86.755283</td>\n",
       "      <td>266</td>\n",
       "      <td>52.0</td>\n",
       "      <td>83.7</td>\n",
       "      <td>10.000000</td>\n",
       "    </tr>\n",
       "    <tr>\n",
       "      <th>2</th>\n",
       "      <td>12/22/2018 12:09:35 PM</td>\n",
       "      <td>41.603228</td>\n",
       "      <td>-86.755552</td>\n",
       "      <td>265</td>\n",
       "      <td>51.3</td>\n",
       "      <td>82.6</td>\n",
       "      <td>10.000000</td>\n",
       "    </tr>\n",
       "    <tr>\n",
       "      <th>3</th>\n",
       "      <td>12/22/2018 12:09:37 PM</td>\n",
       "      <td>41.603144</td>\n",
       "      <td>-86.756071</td>\n",
       "      <td>261</td>\n",
       "      <td>50.9</td>\n",
       "      <td>81.9</td>\n",
       "      <td>10.000000</td>\n",
       "    </tr>\n",
       "    <tr>\n",
       "      <th>4</th>\n",
       "      <td>12/22/2018 12:09:39 PM</td>\n",
       "      <td>41.603064</td>\n",
       "      <td>-86.756573</td>\n",
       "      <td>266</td>\n",
       "      <td>52.0</td>\n",
       "      <td>83.7</td>\n",
       "      <td>10.000000</td>\n",
       "    </tr>\n",
       "  </tbody>\n",
       "</table>\n",
       "</div>"
      ],
      "text/plain": [
       "                timestamp   latitude  longitude  altitude  speedmph  speedkmh  \\\n",
       "0  12/22/2018 12:09:32 PM  41.603367 -86.754688       259      48.5      78.0   \n",
       "1  12/22/2018 12:09:34 PM  41.603271 -86.755283       266      52.0      83.7   \n",
       "2  12/22/2018 12:09:35 PM  41.603228 -86.755552       265      51.3      82.6   \n",
       "3  12/22/2018 12:09:37 PM  41.603144 -86.756071       261      50.9      81.9   \n",
       "4  12/22/2018 12:09:39 PM  41.603064 -86.756573       266      52.0      83.7   \n",
       "\n",
       "    accuracy  \n",
       "0  15.975934  \n",
       "1  10.000000  \n",
       "2  10.000000  \n",
       "3  10.000000  \n",
       "4  10.000000  "
      ]
     },
     "execution_count": 3,
     "metadata": {},
     "output_type": "execute_result"
    }
   ],
   "source": [
    "CC_Data.head()"
   ]
  },
  {
   "cell_type": "code",
   "execution_count": 6,
   "metadata": {},
   "outputs": [],
   "source": [
    "'''\n",
    "#Tidy the timestamp data\n",
    "time_list = []\n",
    "for i in CC_Data[\"timestamp\"]:\n",
    "    ''This loop separates the clock time from the rest of the string''\n",
    "    start = 0 #index for slicing\n",
    "    stop = 0 #index for slicing\n",
    "    flag = 0\n",
    "    for j in range(len(i)):\n",
    "        if (i[j] == \" \" and flag == 0):\n",
    "            start = j+1\n",
    "            flag = 1\n",
    "        elif (i[j] == \" \" and flag == 1):\n",
    "            stop = j\n",
    "    time_list.append(i[start:stop])\n",
    "\n",
    "CC_Data[\"time\"] = time_list\n",
    "\n",
    "\n",
    "\n",
    "second_list = []\n",
    "for time in CC_Data[\"time\"]:\n",
    "    'this will create a column of all the times in seconds....this is easier to work with''\n",
    "    x = time.split(\":\")\n",
    "    hour = int(x[0])\n",
    "    minute = int(x[1])\n",
    "    second = int(x[2])\n",
    "    second_list.append((hour%12)*60^2 + minute*60 + second)\n",
    "\n",
    "for i in range(len(second_list)):\n",
    "    'This changes the list so that each time is relative to the start time''\n",
    "    second_list[i] -= 574\n",
    "\n",
    "CC_Data[\"seconds\"] = second_list\n",
    "''';"
   ]
  },
  {
   "cell_type": "code",
   "execution_count": 14,
   "metadata": {},
   "outputs": [],
   "source": [
    "#Tidy the timestamp data\n",
    "time_list = []\n",
    "for i in CC_Data[\"timestamp\"]:\n",
    "    '''This loop separates the clock time from the rest of the string'''\n",
    "    start = 0 #index for slicing\n",
    "    stop = 0 #index for slicing\n",
    "    flag = 0\n",
    "    for j in range(len(i)):\n",
    "        if (i[j] == \" \" and flag == 0):\n",
    "            start = j+1\n",
    "            flag = 1\n",
    "        elif (i[j] == \" \" and flag == 1):\n",
    "            stop = j\n",
    "    time_list.append(i[start:stop])\n",
    "\n",
    "CC_Data[\"time\"] = time_list\n",
    "\n",
    "####################################\n",
    "\n",
    "second_list = []\n",
    "for i in range(len(CC_Data)):\n",
    "    '''this will create a column of all the times in seconds, relative to the start time....this is easier to work with'''\n",
    "    if (i == 0):\n",
    "        x = CC_Data[\"time\"].iloc[i]\n",
    "        x = x.split(\":\")\n",
    "        prev_hour = int(x[0])\n",
    "        prev_minute = int(x[1])\n",
    "        prev_second = int(x[2])\n",
    "        prev_time = 0 #previous value stored since init\n",
    "        second_list.append(0)\n",
    "    else:\n",
    "        x = CC_Data[\"time\"].iloc[i]\n",
    "        x = x.split(\":\")\n",
    "        hour = int(x[0])\n",
    "        minute = int(x[1])\n",
    "        second = int(x[2])\n",
    "        \n",
    "        if ((prev_hour == hour) and (prev_minute == minute)):\n",
    "            #if the hour and minute are the same\n",
    "            sec = second - prev_second #finds how many seconds since previous instance\n",
    "            second_list.append(prev_time + sec)\n",
    "            prev_time += sec\n",
    "        elif ((prev_hour == hour) and (prev_minute != minute)):\n",
    "            #if the hour is the same, but different minutes\n",
    "            sec = (second + (60-prev_second)) + ((minute-prev_minute-1) * 60) #finds how many seconds since previous instance\n",
    "            #the ((minute-prev_minute-1) * 60) is there in case the jump is larger than a minute\n",
    "            second_list.append(prev_time + sec)\n",
    "            prev_time += sec       \n",
    "        else:\n",
    "            #if the hour has changed -- assuming the change is never more than 1 hour\n",
    "            sec = (minute*60 + second)\n",
    "            second_list.append(prev_time + sec)\n",
    "            prev_time += sec\n",
    "        prev_hour = hour\n",
    "        prev_minute = minute\n",
    "        prev_second = second"
   ]
  },
  {
   "cell_type": "code",
   "execution_count": 15,
   "metadata": {},
   "outputs": [
    {
     "data": {
      "text/plain": [
       "361355"
      ]
     },
     "execution_count": 15,
     "metadata": {},
     "output_type": "execute_result"
    }
   ],
   "source": [
    "len(CC_Data)"
   ]
  },
  {
   "cell_type": "code",
   "execution_count": 16,
   "metadata": {},
   "outputs": [
    {
     "data": {
      "text/plain": [
       "361355"
      ]
     },
     "execution_count": 16,
     "metadata": {},
     "output_type": "execute_result"
    }
   ],
   "source": [
    "len(second_list)"
   ]
  },
  {
   "cell_type": "code",
   "execution_count": 17,
   "metadata": {},
   "outputs": [],
   "source": [
    "CC_Data[\"seconds\"] = second_list"
   ]
  },
  {
   "cell_type": "code",
   "execution_count": 18,
   "metadata": {},
   "outputs": [],
   "source": [
    "#remove points where the accuracy >10\n",
    "CC_Data = CC_Data[CC_Data[\"accuracy\"] <= 10]"
   ]
  },
  {
   "cell_type": "code",
   "execution_count": 19,
   "metadata": {},
   "outputs": [
    {
     "data": {
      "text/html": [
       "<div>\n",
       "<style scoped>\n",
       "    .dataframe tbody tr th:only-of-type {\n",
       "        vertical-align: middle;\n",
       "    }\n",
       "\n",
       "    .dataframe tbody tr th {\n",
       "        vertical-align: top;\n",
       "    }\n",
       "\n",
       "    .dataframe thead th {\n",
       "        text-align: right;\n",
       "    }\n",
       "</style>\n",
       "<table border=\"1\" class=\"dataframe\">\n",
       "  <thead>\n",
       "    <tr style=\"text-align: right;\">\n",
       "      <th></th>\n",
       "      <th>timestamp</th>\n",
       "      <th>latitude</th>\n",
       "      <th>longitude</th>\n",
       "      <th>altitude</th>\n",
       "      <th>speedmph</th>\n",
       "      <th>speedkmh</th>\n",
       "      <th>accuracy</th>\n",
       "      <th>time</th>\n",
       "      <th>seconds</th>\n",
       "    </tr>\n",
       "  </thead>\n",
       "  <tbody>\n",
       "    <tr>\n",
       "      <th>1</th>\n",
       "      <td>12/22/2018 12:09:34 PM</td>\n",
       "      <td>41.603271</td>\n",
       "      <td>-86.755283</td>\n",
       "      <td>266</td>\n",
       "      <td>52.0</td>\n",
       "      <td>83.7</td>\n",
       "      <td>10.000000</td>\n",
       "      <td>12:09:34</td>\n",
       "      <td>2</td>\n",
       "    </tr>\n",
       "    <tr>\n",
       "      <th>2</th>\n",
       "      <td>12/22/2018 12:09:35 PM</td>\n",
       "      <td>41.603228</td>\n",
       "      <td>-86.755552</td>\n",
       "      <td>265</td>\n",
       "      <td>51.3</td>\n",
       "      <td>82.6</td>\n",
       "      <td>10.000000</td>\n",
       "      <td>12:09:35</td>\n",
       "      <td>3</td>\n",
       "    </tr>\n",
       "    <tr>\n",
       "      <th>3</th>\n",
       "      <td>12/22/2018 12:09:37 PM</td>\n",
       "      <td>41.603144</td>\n",
       "      <td>-86.756071</td>\n",
       "      <td>261</td>\n",
       "      <td>50.9</td>\n",
       "      <td>81.9</td>\n",
       "      <td>10.000000</td>\n",
       "      <td>12:09:37</td>\n",
       "      <td>5</td>\n",
       "    </tr>\n",
       "    <tr>\n",
       "      <th>4</th>\n",
       "      <td>12/22/2018 12:09:39 PM</td>\n",
       "      <td>41.603064</td>\n",
       "      <td>-86.756573</td>\n",
       "      <td>266</td>\n",
       "      <td>52.0</td>\n",
       "      <td>83.7</td>\n",
       "      <td>10.000000</td>\n",
       "      <td>12:09:39</td>\n",
       "      <td>7</td>\n",
       "    </tr>\n",
       "    <tr>\n",
       "      <th>9</th>\n",
       "      <td>12/22/2018 12:09:49 PM</td>\n",
       "      <td>41.602614</td>\n",
       "      <td>-86.759369</td>\n",
       "      <td>259</td>\n",
       "      <td>53.9</td>\n",
       "      <td>86.8</td>\n",
       "      <td>9.461421</td>\n",
       "      <td>12:09:49</td>\n",
       "      <td>17</td>\n",
       "    </tr>\n",
       "  </tbody>\n",
       "</table>\n",
       "</div>"
      ],
      "text/plain": [
       "                timestamp   latitude  longitude  altitude  speedmph  speedkmh  \\\n",
       "1  12/22/2018 12:09:34 PM  41.603271 -86.755283       266      52.0      83.7   \n",
       "2  12/22/2018 12:09:35 PM  41.603228 -86.755552       265      51.3      82.6   \n",
       "3  12/22/2018 12:09:37 PM  41.603144 -86.756071       261      50.9      81.9   \n",
       "4  12/22/2018 12:09:39 PM  41.603064 -86.756573       266      52.0      83.7   \n",
       "9  12/22/2018 12:09:49 PM  41.602614 -86.759369       259      53.9      86.8   \n",
       "\n",
       "    accuracy      time  seconds  \n",
       "1  10.000000  12:09:34        2  \n",
       "2  10.000000  12:09:35        3  \n",
       "3  10.000000  12:09:37        5  \n",
       "4  10.000000  12:09:39        7  \n",
       "9   9.461421  12:09:49       17  "
      ]
     },
     "execution_count": 19,
     "metadata": {},
     "output_type": "execute_result"
    }
   ],
   "source": [
    "CC_Data.head()"
   ]
  },
  {
   "cell_type": "markdown",
   "metadata": {},
   "source": [
    "#### Problem 1"
   ]
  },
  {
   "cell_type": "markdown",
   "metadata": {},
   "source": [
    "How long is the combined journey, in miles traveled, from beginning\n",
    "through end?"
   ]
  },
  {
   "cell_type": "code",
   "execution_count": 20,
   "metadata": {},
   "outputs": [],
   "source": [
    "def Haversine(lat1, lon1, lat2, lon2): \n",
    "    R = 6372.8 # Earth radius in kilometers\n",
    " \n",
    "    dLat = np.radians(lat2 - lat1)\n",
    "    dLon = np.radians(lon2 - lon1)\n",
    "    \n",
    "    lat1 = np.radians(lat1)\n",
    "    lat2 = np.radians(lat2)\n",
    " \n",
    "    a = np.sin(dLat/2)**2 + np.cos(lat1)*np.cos(lat2)*np.sin(dLon/2)**2\n",
    "    c = 2 * np.arctan2(np.sqrt(a), np.sqrt(1-a))\n",
    " \n",
    "    return R * c"
   ]
  },
  {
   "cell_type": "code",
   "execution_count": 21,
   "metadata": {},
   "outputs": [
    {
     "name": "stdout",
     "output_type": "stream",
     "text": [
      "The total distance covered in this Cross Country was 10340.166 Km or 6425.079 miles\n"
     ]
    }
   ],
   "source": [
    "Total_Dist = 0.0\n",
    "for i in range(len(CC_Data)-1):\n",
    "    Total_Dist += Haversine(lat1=CC_Data[\"latitude\"].iloc[i], lon1=CC_Data[\"longitude\"].iloc[i], lat2=CC_Data[\"latitude\"].iloc[i+1], lon2=CC_Data[\"longitude\"].iloc[i+1])\n",
    "\n",
    "print(\"The total distance covered in this Cross Country was %0.3f Km or %0.3f miles\" %(Total_Dist, Total_Dist*0.621371))"
   ]
  },
  {
   "cell_type": "markdown",
   "metadata": {},
   "source": [
    "Plot the entire journey on a map. Please make your visual informative:\n",
    "Don’t plot the data at a very high level of resolution (e.g., northern\n",
    "hemisphere) such that the entire trip appears like a very short line\n",
    "segment! Instead, use a bit lower resolution, so that the trip can be\n",
    "followed (for example, on a map of the United States)."
   ]
  },
  {
   "cell_type": "code",
   "execution_count": null,
   "metadata": {},
   "outputs": [],
   "source": []
  },
  {
   "cell_type": "markdown",
   "metadata": {},
   "source": [
    "Which two major U.S. cities were visited on this trip? (NOTE: The\n",
    "two major U.S. cities visited on this trip were those cities in which the\n",
    "travelers spent more than 10 hours.) Can you identify the hotels in\n",
    "which the traveler’s stayed, in each city? To do this you must understand what it might mean–from the perspective of GPS coordinates–to\n",
    "spend time in a hotel. For example: What is the likely recorded speed\n",
    "when someone is sleeping? There are other ways to find specific locations, but hotels are the easiest if we define “sleeping” in GPS terms."
   ]
  },
  {
   "cell_type": "code",
   "execution_count": 73,
   "metadata": {},
   "outputs": [],
   "source": [
    "##speed should be zero for \"n\" seconds\n",
    "def GetStops(n = 10, data = CC_Data):\n",
    "    '''This function will gather a list of latitude/longitude pairs where each pair represents a trainstop. A trainstop is defined as stopping for at least n minutes'''\n",
    "    Stops = []\n",
    "    #Stops = [[index in CC_data,\"lat\", \"lon\", \"duration (minutes)\"]]\n",
    "    n = n*60 #time, in seconds of how long a stop is\n",
    "    start = 0 #index  the last stop started\n",
    "    stop = 0 #index the last stop stopped\n",
    "\n",
    "    for i in (range(0,len(data)-1)):\n",
    "        #for each element in the data\n",
    "        if ((data[\"speedmph\"].iloc[i] == 0) and (i >= stop)):\n",
    "        #if (speed at location i is zero) and (we are after the last stop ended)\n",
    "            start = i #index of stop's start time\n",
    "            \n",
    "            \n",
    "            j = i+1 #start at next index to continue check\n",
    "            while ((data[\"speedmph\"].iloc[j] == 0)):\n",
    "            #while the speed remains 0\n",
    "                   stop = j\n",
    "                   j += 1\n",
    "          \n",
    "            if ((data[\"seconds\"].iloc[stop] - data[\"seconds\"].iloc[start]) >= n):\n",
    "            #if (the duration of the stop is long enough)\n",
    "                Stops.append([i, data[\"latitude\"].iloc[i], data[\"longitude\"].iloc[i], (data[\"seconds\"].iloc[stop] - data[\"seconds\"].iloc[start])/60])\n",
    "                \n",
    "            \n",
    "    return Stops"
   ]
  },
  {
   "cell_type": "code",
   "execution_count": 76,
   "metadata": {},
   "outputs": [
    {
     "name": "stdout",
     "output_type": "stream",
     "text": [
      "[[92757, 47.608964, -122.33316299999998, 649.7]]\n"
     ]
    }
   ],
   "source": [
    "print(GetStops(n = 600)) #10 hours"
   ]
  },
  {
   "cell_type": "code",
   "execution_count": 75,
   "metadata": {},
   "outputs": [
    {
     "name": "stdout",
     "output_type": "stream",
     "text": [
      "[[92757, 47.608964, -122.33316299999998, 649.7], [139309, 37.805606, -122.416288, 236.18333333333334]]\n"
     ]
    }
   ],
   "source": [
    "print(GetStops(n = 200))"
   ]
  },
  {
   "cell_type": "markdown",
   "metadata": {},
   "source": [
    "The first major city visited was Seattle, Washington. The other was San Francisco, California. \n",
    "\n",
    "Hotel in Seattle: Hilton Seattle\n",
    "\n",
    "Hotel in San Francisco: Pier 2620 Hotel  https://www.google.com/maps/place/37%C2%B048'20.2%22N+122%C2%B024'58.6%22W/@37.8056309,-122.4161343,18.91z/data=!4m5!3m4!1s0x0:0x0!8m2!3d37.805606!4d-122.416288"
   ]
  },
  {
   "cell_type": "markdown",
   "metadata": {},
   "source": [
    "How many total stops were made on this trip, and what are the lat/lon\n",
    "coordinates of each of these stops? (NOTE: Answering this question\n",
    "will require you to define a stop. That definition may or may not be\n",
    "statistical in nature. If you adopt a statistical definition, then you\n",
    "should provide that definition and a short discussion–a few sentences\n",
    "at most–defending your choice. Also note that “stops” were not made\n",
    "in the two major cities. Instead, “stops” were made in transit to the\n",
    "major cities, and also between them.)"
   ]
  },
  {
   "cell_type": "code",
   "execution_count": 29,
   "metadata": {},
   "outputs": [],
   "source": []
  },
  {
   "cell_type": "code",
   "execution_count": 30,
   "metadata": {},
   "outputs": [
    {
     "data": {
      "text/plain": [
       "37"
      ]
     },
     "execution_count": 30,
     "metadata": {},
     "output_type": "execute_result"
    }
   ],
   "source": [
    "S = GetStops()\n",
    "len(S)"
   ]
  },
  {
   "cell_type": "code",
   "execution_count": 35,
   "metadata": {},
   "outputs": [],
   "source": [
    "S1 = GetStops(n = 5)"
   ]
  },
  {
   "cell_type": "code",
   "execution_count": 33,
   "metadata": {},
   "outputs": [
    {
     "data": {
      "text/plain": [
       "2"
      ]
     },
     "execution_count": 33,
     "metadata": {},
     "output_type": "execute_result"
    }
   ],
   "source": [
    "S2 = GetStops(n = 200)\n",
    "len(S2)"
   ]
  },
  {
   "cell_type": "code",
   "execution_count": 34,
   "metadata": {},
   "outputs": [
    {
     "data": {
      "text/plain": [
       "[[92757, 47.608964, -122.33316299999998, 649.7],\n",
       " [139309, 37.805606, -122.416288, 236.18333333333334]]"
      ]
     },
     "execution_count": 34,
     "metadata": {},
     "output_type": "execute_result"
    }
   ],
   "source": [
    "S2"
   ]
  },
  {
   "cell_type": "markdown",
   "metadata": {},
   "source": [
    "Defining a stop as a 10 minute period of maintaining a speed of 0, there were 37 stops on this trip.\n",
    "\n",
    "However, if we define a stop as 5 minutes, there were 75 stops on this trip"
   ]
  },
  {
   "cell_type": "markdown",
   "metadata": {},
   "source": [
    "Plot the stop locations on a map."
   ]
  },
  {
   "cell_type": "code",
   "execution_count": null,
   "metadata": {},
   "outputs": [],
   "source": []
  },
  {
   "cell_type": "markdown",
   "metadata": {},
   "source": [
    "Report the mean speed between stops, and the standard deviation of\n",
    "the speed between stops."
   ]
  },
  {
   "cell_type": "code",
   "execution_count": 45,
   "metadata": {},
   "outputs": [],
   "source": [
    "Stops = GetStops(n = 5)"
   ]
  },
  {
   "cell_type": "code",
   "execution_count": 77,
   "metadata": {},
   "outputs": [],
   "source": [
    "s_counter = 0 #this will be used to index through the Stops\n",
    "avg = 0 #this will compute the running average\n",
    "std = 0 #compute running std\n",
    "avg_counter = 0 #counter for the mean\n",
    "speed_data = [] #this will hold the mean speed and standard deviation of speeds between each stop\n",
    "for i in range(1,len(CC_Data)):\n",
    "    if (s_counter == len(Stops)):\n",
    "        S = CC_Data[\"seconds\"].iloc[-1] + 1\n",
    "    else:\n",
    "        S = Stops[s_counter][0]\n",
    "    #The if else above enables us to get the mean speeds from the last stop onward, if need be\n",
    "        \n",
    "        \n",
    "    if (i < S):\n",
    "        avg_counter += 1\n",
    "        old_avg = avg\n",
    "        avg = ((avg_counter-1)*avg + CC_Data[\"speedmph\"].iloc[i-1])/avg_counter\n",
    "        std = (std + ((CC_Data[\"speedmph\"].iloc[i-1]-avg)*(CC_Data[\"speedmph\"].iloc[i-1]-old_avg)))\n",
    "    else:\n",
    "        speed_data.append([avg,std])\n",
    "        avg_counter = 0\n",
    "        avg = 0\n",
    "        std = 0\n",
    "        s_counter += 1"
   ]
  },
  {
   "cell_type": "code",
   "execution_count": 78,
   "metadata": {},
   "outputs": [
    {
     "data": {
      "text/plain": [
       "[[41.61644094488196, 1212986.2817826741],\n",
       " [58.99483782549103, 2014743.6916674303],\n",
       " [50.3302389705882, 2135026.6902757366],\n",
       " [51.92268089053795, 4281153.001808899],\n",
       " [37.94750415973379, 848141.4575124786],\n",
       " [48.11449983708047, 2548590.804757255],\n",
       " [35.423455759599406, 3829717.3726794715],\n",
       " [60.05702323634082, 3313276.9468704103],\n",
       " [17.19265033407572, 321998.8114922052],\n",
       " [52.92181335356591, 2032193.4157321774],\n",
       " [62.29199554423909, 3663393.3073758753],\n",
       " [52.06594975256934, 4866988.918410745],\n",
       " [63.829026763990406, 5791297.594214105],\n",
       " [3.8696821515892403, 23075.924058679706],\n",
       " [0.3102974828375285, 1374.7036613272314],\n",
       " [52.160329962746154, 5094474.564977118],\n",
       " [51.26987984707823, 3467704.487747135],\n",
       " [40.49042769857448, 1567562.1950712814],\n",
       " [49.43961937716265, 1447919.230865052],\n",
       " [38.63936447711621, 5567298.330993614],\n",
       " [0.012711864406779662, 5.123728813559323],\n",
       " [36.79015232782662, 1454087.0379918504],\n",
       " [16.402175489485114, 1785801.5004205904],\n",
       " [1.353737214791505, 17080.39974822975],\n",
       " [0.25, 1.58],\n",
       " [0.13653333333333328, 74.50949333333335],\n",
       " [0.8375212224108657, 434.1407809847201],\n",
       " [0.11898734177215191, 4.921518987341772],\n",
       " [0.0006924279651552379, 3.8078534733080183],\n",
       " [0.36412213740458005, 60.761374045801524],\n",
       " [0.0061162079510703364, 5.395535168195718],\n",
       " [0.47058823529411764, 6.955294117647059],\n",
       " [0.15479910714285716, 231.05936383928565],\n",
       " [0.18333333333333335, 1.0083333333333335],\n",
       " [0.0751269035532995, 25.548121827411165],\n",
       " [45.90111642743221, 1961887.9768740023],\n",
       " [44.541528925619986, 2449186.751611572],\n",
       " [0.0, 0.0],\n",
       " [41.39446206600921, 5771821.602249466],\n",
       " [0.0, 0.0],\n",
       " [39.910952825782296, 7495367.1089374125],\n",
       " [16.866415500538196, 1157492.9443272324],\n",
       " [0.10687907313540917, 1132.4646488052138],\n",
       " [2.141600000000001, 8268.967360000004],\n",
       " [1.2220999153259953, 1392.313192209992],\n",
       " [0.9777623026926665, 13614.584814299],\n",
       " [1.9966101694915273, 10884.754576271187],\n",
       " [0.39828897338403063, 421.7684600760458],\n",
       " [1.9946484131922904, 21137.973976353474],\n",
       " [5.352727272727254, 134004.58945454552],\n",
       " [2.874268018018014, 29930.194048423433],\n",
       " [1.189959432048683, 1419.4705983772815],\n",
       " [0.01402359108781127, 30.07994757536042],\n",
       " [4.299932065217388, 121191.80999320647],\n",
       " [54.11832567636554, 1867776.1521082185],\n",
       " [24.809589840899115, 2137997.7399474564],\n",
       " [29.04806866952789, 494954.9730472109],\n",
       " [59.67239500966424, 3742742.493256025],\n",
       " [58.78217371532521, 8029217.547257847],\n",
       " [30.110613598673304, 3826630.0290215644],\n",
       " [50.120414350682395, 3454491.3057807],\n",
       " [49.264244686961476, 1545783.4184635284],\n",
       " [32.53467237405334, 1825847.1779980236],\n",
       " [0.0014440433212996391, 0.15942238267148015],\n",
       " [20.589222042139383, 451045.4666531604],\n",
       " [26.825084306096052, 1098215.5843476031],\n",
       " [58.564442580448436, 12921981.429575216],\n",
       " [57.146464958320315, 2797930.817023757],\n",
       " [44.588331929233334, 1671426.2467944433],\n",
       " [52.14076589879921, 7837520.60884132],\n",
       " [58.464566326530665, 8850241.60478823],\n",
       " [5.57137931034483, 86913.37734482758],\n",
       " [51.91241342567939, 3505290.121534366],\n",
       " [48.39025552187095, 1978191.5614984913],\n",
       " [34.99577872599804, 1572695.37307071]]"
      ]
     },
     "execution_count": 78,
     "metadata": {},
     "output_type": "execute_result"
    }
   ],
   "source": [
    "speed_data"
   ]
  },
  {
   "cell_type": "markdown",
   "metadata": {},
   "source": [
    "Identify the U.S. states that were “visited” by the travelers (NOTE:\n",
    "We will adopt a loose definition of “visited”: any state traversed by the\n",
    "journey is considered “visited” for purposes of this question.)"
   ]
  },
  {
   "cell_type": "code",
   "execution_count": null,
   "metadata": {},
   "outputs": [],
   "source": []
  },
  {
   "cell_type": "markdown",
   "metadata": {},
   "source": [
    "There were several natural landscape and man-made landmarks visited\n",
    "on this trip (a landmark being defined loosely as a tourist destination).\n",
    "Name three of them. (NOTE: To assist you with this task, it will\n",
    "be helpful to also plot the locations of some landmarks on a map,\n",
    "and see whether the traveler’s journey “intersected with” or otherwise\n",
    "spent significant time near one of these landmarks. Once you identify\n",
    "the two major cities visited on the journey, you will have sufficient\n",
    "information to identify at least three landmarks. How? By Googling\n",
    "the names of the two cities and making a list of some of the noteworthy\n",
    "landmarks in each, and then, obtaining the GPS coordinates of these\n",
    "landmarks!) Can you name additional landmarks, particularly outside\n",
    "densely populated areas, that were “visited” in transit? One homework\n",
    "extra credit point will be awarded for every five additional landmarks\n",
    "identified, up to +3 homework extra credit points. (As an aside, and\n",
    "FYI only, natural landscape landmarks–of which there are several on\n",
    "this journey–are best “visited” at low speeds: If not, then it becomes\n",
    "hard to photograph them!)"
   ]
  },
  {
   "cell_type": "code",
   "execution_count": null,
   "metadata": {},
   "outputs": [],
   "source": []
  },
  {
   "cell_type": "markdown",
   "metadata": {},
   "source": [
    "Create a graphically pleasant Powerpoint presentation of your above\n",
    "analysis of the combined journey, using the template format outlined\n",
    "in Homework 2. In this case, don’t consider the journey as a problem\n",
    "to be solved. Instead, consider the journey as a product to be sold. That\n",
    "is precisely why you were just asked to identify states and landmarks!\n",
    "Your Powerpoint presentation should reflect this “sales” viewpoint."
   ]
  },
  {
   "cell_type": "code",
   "execution_count": null,
   "metadata": {},
   "outputs": [],
   "source": []
  },
  {
   "cell_type": "markdown",
   "metadata": {},
   "source": [
    "Create a separate document (either Powerpoint or word-processed text\n",
    "document) that is a technical appendix and that includes any and all\n",
    "python code that you write."
   ]
  },
  {
   "cell_type": "code",
   "execution_count": null,
   "metadata": {},
   "outputs": [],
   "source": []
  }
 ],
 "metadata": {
  "kernelspec": {
   "display_name": "Python 3",
   "language": "python",
   "name": "python3"
  },
  "language_info": {
   "codemirror_mode": {
    "name": "ipython",
    "version": 3
   },
   "file_extension": ".py",
   "mimetype": "text/x-python",
   "name": "python",
   "nbconvert_exporter": "python",
   "pygments_lexer": "ipython3",
   "version": "3.6.5"
  }
 },
 "nbformat": 4,
 "nbformat_minor": 2
}
